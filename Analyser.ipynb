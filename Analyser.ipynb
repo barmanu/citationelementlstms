{
 "cells": [
  {
   "cell_type": "code",
   "execution_count": 1,
   "metadata": {},
   "outputs": [],
   "source": [
    "import os\n",
    "import numpy as np\n",
    "import pandas as pd\n",
    "import matplotlib.pyplot as plt"
   ]
  },
  {
   "cell_type": "code",
   "execution_count": 2,
   "metadata": {},
   "outputs": [],
   "source": [
    "path = \"./data/data.csv\""
   ]
  },
  {
   "cell_type": "code",
   "execution_count": 3,
   "metadata": {},
   "outputs": [],
   "source": [
    "df = pd.read_csv(path, index_col=0)"
   ]
  },
  {
   "cell_type": "code",
   "execution_count": 4,
   "metadata": {},
   "outputs": [
    {
     "data": {
      "text/html": [
       "<div>\n",
       "<style scoped>\n",
       "    .dataframe tbody tr th:only-of-type {\n",
       "        vertical-align: middle;\n",
       "    }\n",
       "\n",
       "    .dataframe tbody tr th {\n",
       "        vertical-align: top;\n",
       "    }\n",
       "\n",
       "    .dataframe thead th {\n",
       "        text-align: right;\n",
       "    }\n",
       "</style>\n",
       "<table border=\"1\" class=\"dataframe\">\n",
       "  <thead>\n",
       "    <tr style=\"text-align: right;\">\n",
       "      <th></th>\n",
       "      <th>cit_id</th>\n",
       "      <th>text</th>\n",
       "      <th>label</th>\n",
       "    </tr>\n",
       "  </thead>\n",
       "  <tbody>\n",
       "    <tr>\n",
       "      <td>0</td>\n",
       "      <td>1</td>\n",
       "      <td>['A.', 'Cau,', 'R.', 'Kuiper,', 'and', 'W.-P.'...</td>\n",
       "      <td>['author', 'author', 'author', 'author', 'auth...</td>\n",
       "    </tr>\n",
       "    <tr>\n",
       "      <td>1</td>\n",
       "      <td>2</td>\n",
       "      <td>['M.', 'Kitsuregawa,', 'H.', 'Tanaka,', 'and',...</td>\n",
       "      <td>['author', 'author', 'author', 'author', 'auth...</td>\n",
       "    </tr>\n",
       "    <tr>\n",
       "      <td>2</td>\n",
       "      <td>3</td>\n",
       "      <td>['Alexander', 'Vrchoticky.', 'Modula/R', 'lang...</td>\n",
       "      <td>['author', 'author', 'title', 'title', 'title'...</td>\n",
       "    </tr>\n",
       "    <tr>\n",
       "      <td>3</td>\n",
       "      <td>4</td>\n",
       "      <td>['Marc', 'Shapiro', 'and', 'Susan', 'Horwitz.'...</td>\n",
       "      <td>['author', 'author', 'author', 'author', 'auth...</td>\n",
       "    </tr>\n",
       "    <tr>\n",
       "      <td>4</td>\n",
       "      <td>5</td>\n",
       "      <td>['W.', 'Landi', 'and', 'B.', 'G.', 'Ryder.', '...</td>\n",
       "      <td>['author', 'author', 'author', 'author', 'auth...</td>\n",
       "    </tr>\n",
       "  </tbody>\n",
       "</table>\n",
       "</div>"
      ],
      "text/plain": [
       "   cit_id                                               text  \\\n",
       "0       1  ['A.', 'Cau,', 'R.', 'Kuiper,', 'and', 'W.-P.'...   \n",
       "1       2  ['M.', 'Kitsuregawa,', 'H.', 'Tanaka,', 'and',...   \n",
       "2       3  ['Alexander', 'Vrchoticky.', 'Modula/R', 'lang...   \n",
       "3       4  ['Marc', 'Shapiro', 'and', 'Susan', 'Horwitz.'...   \n",
       "4       5  ['W.', 'Landi', 'and', 'B.', 'G.', 'Ryder.', '...   \n",
       "\n",
       "                                               label  \n",
       "0  ['author', 'author', 'author', 'author', 'auth...  \n",
       "1  ['author', 'author', 'author', 'author', 'auth...  \n",
       "2  ['author', 'author', 'title', 'title', 'title'...  \n",
       "3  ['author', 'author', 'author', 'author', 'auth...  \n",
       "4  ['author', 'author', 'author', 'author', 'auth...  "
      ]
     },
     "execution_count": 4,
     "metadata": {},
     "output_type": "execute_result"
    }
   ],
   "source": [
    "df.head()"
   ]
  },
  {
   "cell_type": "code",
   "execution_count": 5,
   "metadata": {},
   "outputs": [],
   "source": [
    "df[\"len\"] = df.apply(lambda x: len(eval(x.text)), axis=1)"
   ]
  },
  {
   "cell_type": "code",
   "execution_count": 6,
   "metadata": {},
   "outputs": [
    {
     "data": {
      "text/html": [
       "<div>\n",
       "<style scoped>\n",
       "    .dataframe tbody tr th:only-of-type {\n",
       "        vertical-align: middle;\n",
       "    }\n",
       "\n",
       "    .dataframe tbody tr th {\n",
       "        vertical-align: top;\n",
       "    }\n",
       "\n",
       "    .dataframe thead th {\n",
       "        text-align: right;\n",
       "    }\n",
       "</style>\n",
       "<table border=\"1\" class=\"dataframe\">\n",
       "  <thead>\n",
       "    <tr style=\"text-align: right;\">\n",
       "      <th></th>\n",
       "      <th>cit_id</th>\n",
       "      <th>text</th>\n",
       "      <th>label</th>\n",
       "      <th>len</th>\n",
       "    </tr>\n",
       "  </thead>\n",
       "  <tbody>\n",
       "    <tr>\n",
       "      <td>0</td>\n",
       "      <td>1</td>\n",
       "      <td>['A.', 'Cau,', 'R.', 'Kuiper,', 'and', 'W.-P.'...</td>\n",
       "      <td>['author', 'author', 'author', 'author', 'auth...</td>\n",
       "      <td>32</td>\n",
       "    </tr>\n",
       "    <tr>\n",
       "      <td>1</td>\n",
       "      <td>2</td>\n",
       "      <td>['M.', 'Kitsuregawa,', 'H.', 'Tanaka,', 'and',...</td>\n",
       "      <td>['author', 'author', 'author', 'author', 'auth...</td>\n",
       "      <td>22</td>\n",
       "    </tr>\n",
       "    <tr>\n",
       "      <td>2</td>\n",
       "      <td>3</td>\n",
       "      <td>['Alexander', 'Vrchoticky.', 'Modula/R', 'lang...</td>\n",
       "      <td>['author', 'author', 'title', 'title', 'title'...</td>\n",
       "      <td>22</td>\n",
       "    </tr>\n",
       "    <tr>\n",
       "      <td>3</td>\n",
       "      <td>4</td>\n",
       "      <td>['Marc', 'Shapiro', 'and', 'Susan', 'Horwitz.'...</td>\n",
       "      <td>['author', 'author', 'author', 'author', 'auth...</td>\n",
       "      <td>26</td>\n",
       "    </tr>\n",
       "    <tr>\n",
       "      <td>4</td>\n",
       "      <td>5</td>\n",
       "      <td>['W.', 'Landi', 'and', 'B.', 'G.', 'Ryder.', '...</td>\n",
       "      <td>['author', 'author', 'author', 'author', 'auth...</td>\n",
       "      <td>28</td>\n",
       "    </tr>\n",
       "  </tbody>\n",
       "</table>\n",
       "</div>"
      ],
      "text/plain": [
       "   cit_id                                               text  \\\n",
       "0       1  ['A.', 'Cau,', 'R.', 'Kuiper,', 'and', 'W.-P.'...   \n",
       "1       2  ['M.', 'Kitsuregawa,', 'H.', 'Tanaka,', 'and',...   \n",
       "2       3  ['Alexander', 'Vrchoticky.', 'Modula/R', 'lang...   \n",
       "3       4  ['Marc', 'Shapiro', 'and', 'Susan', 'Horwitz.'...   \n",
       "4       5  ['W.', 'Landi', 'and', 'B.', 'G.', 'Ryder.', '...   \n",
       "\n",
       "                                               label  len  \n",
       "0  ['author', 'author', 'author', 'author', 'auth...   32  \n",
       "1  ['author', 'author', 'author', 'author', 'auth...   22  \n",
       "2  ['author', 'author', 'title', 'title', 'title'...   22  \n",
       "3  ['author', 'author', 'author', 'author', 'auth...   26  \n",
       "4  ['author', 'author', 'author', 'author', 'auth...   28  "
      ]
     },
     "execution_count": 6,
     "metadata": {},
     "output_type": "execute_result"
    }
   ],
   "source": [
    "df.head()"
   ]
  },
  {
   "cell_type": "code",
   "execution_count": 9,
   "metadata": {},
   "outputs": [
    {
     "ename": "TypeError",
     "evalue": "sort_values() got an unexpected keyword argument 'assending'",
     "output_type": "error",
     "traceback": [
      "\u001b[0;31m---------------------------------------------------------------------------\u001b[0m",
      "\u001b[0;31mTypeError\u001b[0m                                 Traceback (most recent call last)",
      "\u001b[0;32m<ipython-input-9-85bea9bc54d0>\u001b[0m in \u001b[0;36m<module>\u001b[0;34m\u001b[0m\n\u001b[0;32m----> 1\u001b[0;31m \u001b[0mdf\u001b[0m \u001b[0;34m=\u001b[0m \u001b[0mdf\u001b[0m\u001b[0;34m.\u001b[0m\u001b[0msort_values\u001b[0m\u001b[0;34m(\u001b[0m\u001b[0mby\u001b[0m\u001b[0;34m=\u001b[0m\u001b[0;34m[\u001b[0m\u001b[0;34m\"len\"\u001b[0m\u001b[0;34m]\u001b[0m\u001b[0;34m,\u001b[0m\u001b[0massending\u001b[0m\u001b[0;34m=\u001b[0m\u001b[0;32mFalse\u001b[0m\u001b[0;34m)\u001b[0m\u001b[0;34m\u001b[0m\u001b[0;34m\u001b[0m\u001b[0m\n\u001b[0m\u001b[1;32m      2\u001b[0m \u001b[0mdf\u001b[0m\u001b[0;34m.\u001b[0m\u001b[0mhead\u001b[0m\u001b[0;34m(\u001b[0m\u001b[0;34m)\u001b[0m\u001b[0;34m\u001b[0m\u001b[0;34m\u001b[0m\u001b[0m\n",
      "\u001b[0;31mTypeError\u001b[0m: sort_values() got an unexpected keyword argument 'assending'"
     ]
    }
   ],
   "source": [
    "df = df.sort_values(by=[\"len\"],assending=False)\n",
    "df.head()"
   ]
  },
  {
   "cell_type": "code",
   "execution_count": 18,
   "metadata": {},
   "outputs": [],
   "source": [
    "import json\n",
    "with open(\"./words.txt\", 'w', encoding=\"utf-8\") as f:\n",
    "    for line in w:\n",
    "        f.write(line+\"\\n\")\n",
    "        f.flush()\n",
    "f.close()"
   ]
  },
  {
   "cell_type": "code",
   "execution_count": 6,
   "metadata": {},
   "outputs": [
    {
     "data": {
      "text/html": [
       "<div>\n",
       "<style scoped>\n",
       "    .dataframe tbody tr th:only-of-type {\n",
       "        vertical-align: middle;\n",
       "    }\n",
       "\n",
       "    .dataframe tbody tr th {\n",
       "        vertical-align: top;\n",
       "    }\n",
       "\n",
       "    .dataframe thead th {\n",
       "        text-align: right;\n",
       "    }\n",
       "</style>\n",
       "<table border=\"1\" class=\"dataframe\">\n",
       "  <thead>\n",
       "    <tr style=\"text-align: right;\">\n",
       "      <th></th>\n",
       "      <th>cit_id</th>\n",
       "      <th>text</th>\n",
       "      <th>label</th>\n",
       "      <th>len</th>\n",
       "    </tr>\n",
       "  </thead>\n",
       "  <tbody>\n",
       "    <tr>\n",
       "      <td>1165</td>\n",
       "      <td>1166</td>\n",
       "      <td>['W.', 'Schadewalt,', 'Iliasstudien,', 'Leipzi...</td>\n",
       "      <td>['author', 'author', 'title', 'location', 'date']</td>\n",
       "      <td>5</td>\n",
       "    </tr>\n",
       "    <tr>\n",
       "      <td>1184</td>\n",
       "      <td>1185</td>\n",
       "      <td>['A.', 'Lesky,', 'Homeros,', 'RE', 'Suppl.11,'...</td>\n",
       "      <td>['author', 'author', 'title', 'booktitle', 'bo...</td>\n",
       "      <td>6</td>\n",
       "    </tr>\n",
       "    <tr>\n",
       "      <td>535</td>\n",
       "      <td>536</td>\n",
       "      <td>['Ling,', 'C.', 'X.', '(1995).', 'Personal', '...</td>\n",
       "      <td>['author', 'author', 'author', 'date', 'tech',...</td>\n",
       "      <td>6</td>\n",
       "    </tr>\n",
       "    <tr>\n",
       "      <td>1039</td>\n",
       "      <td>1040</td>\n",
       "      <td>['G.', 'Nagy,', 'Homeric', 'Questions,', 'Aust...</td>\n",
       "      <td>['author', 'author', 'title', 'title', 'locati...</td>\n",
       "      <td>6</td>\n",
       "    </tr>\n",
       "    <tr>\n",
       "      <td>1136</td>\n",
       "      <td>1137</td>\n",
       "      <td>['A.', 'Lesky,', 'Homeros,', 'RE', 'Suppl.11,'...</td>\n",
       "      <td>['author', 'author', 'title', 'booktitle', 'bo...</td>\n",
       "      <td>6</td>\n",
       "    </tr>\n",
       "  </tbody>\n",
       "</table>\n",
       "</div>"
      ],
      "text/plain": [
       "      cit_id                                               text  \\\n",
       "1165    1166  ['W.', 'Schadewalt,', 'Iliasstudien,', 'Leipzi...   \n",
       "1184    1185  ['A.', 'Lesky,', 'Homeros,', 'RE', 'Suppl.11,'...   \n",
       "535      536  ['Ling,', 'C.', 'X.', '(1995).', 'Personal', '...   \n",
       "1039    1040  ['G.', 'Nagy,', 'Homeric', 'Questions,', 'Aust...   \n",
       "1136    1137  ['A.', 'Lesky,', 'Homeros,', 'RE', 'Suppl.11,'...   \n",
       "\n",
       "                                                  label  len  \n",
       "1165  ['author', 'author', 'title', 'location', 'date']    5  \n",
       "1184  ['author', 'author', 'title', 'booktitle', 'bo...    6  \n",
       "535   ['author', 'author', 'author', 'date', 'tech',...    6  \n",
       "1039  ['author', 'author', 'title', 'title', 'locati...    6  \n",
       "1136  ['author', 'author', 'title', 'booktitle', 'bo...    6  "
      ]
     },
     "execution_count": 6,
     "metadata": {},
     "output_type": "execute_result"
    }
   ],
   "source": [
    "def get_label_stat(df):\n",
    "    lab_dict = {}\n",
    "    for lablist in df.label.tolist():\n",
    "        for e in eval(lablist):\n",
    "            f = 1\n",
    "            if e in lab_dict.keys():\n",
    "                f = lab_dict[e]\n",
    "                f = f + 1\n",
    "            lab_dict[e] = f\n",
    "    for k,v in lab_dict.items():\n",
    "        print(f\" label {k} freq {v}\")\n",
    "    return lab_dict\n",
    "df.head()"
   ]
  },
  {
   "cell_type": "code",
   "execution_count": 15,
   "metadata": {},
   "outputs": [
    {
     "data": {
      "text/html": [
       "<div>\n",
       "<style scoped>\n",
       "    .dataframe tbody tr th:only-of-type {\n",
       "        vertical-align: middle;\n",
       "    }\n",
       "\n",
       "    .dataframe tbody tr th {\n",
       "        vertical-align: top;\n",
       "    }\n",
       "\n",
       "    .dataframe thead th {\n",
       "        text-align: right;\n",
       "    }\n",
       "</style>\n",
       "<table border=\"1\" class=\"dataframe\">\n",
       "  <thead>\n",
       "    <tr style=\"text-align: right;\">\n",
       "      <th></th>\n",
       "      <th>author</th>\n",
       "      <th>booktitle</th>\n",
       "      <th>date</th>\n",
       "      <th>editor</th>\n",
       "      <th>institution</th>\n",
       "      <th>journal</th>\n",
       "      <th>location</th>\n",
       "      <th>pages</th>\n",
       "      <th>publisher</th>\n",
       "      <th>tech</th>\n",
       "      <th>title</th>\n",
       "      <th>volume</th>\n",
       "      <th>accuracy</th>\n",
       "      <th>macro_avg</th>\n",
       "      <th>weighted_avg</th>\n",
       "      <th>ser</th>\n",
       "      <th>jer</th>\n",
       "      <th>epoch</th>\n",
       "      <th>score</th>\n",
       "      <th>note</th>\n",
       "    </tr>\n",
       "  </thead>\n",
       "  <tbody>\n",
       "    <tr>\n",
       "      <td>0</td>\n",
       "      <td>0.627523</td>\n",
       "      <td>0.126582</td>\n",
       "      <td>0.872964</td>\n",
       "      <td>0.000000</td>\n",
       "      <td>0.000000</td>\n",
       "      <td>0.000000</td>\n",
       "      <td>0.000000</td>\n",
       "      <td>0.701923</td>\n",
       "      <td>0.000000</td>\n",
       "      <td>0.000000</td>\n",
       "      <td>0.759259</td>\n",
       "      <td>0.000000</td>\n",
       "      <td>0.612500</td>\n",
       "      <td>0.257354</td>\n",
       "      <td>0.539651</td>\n",
       "      <td>0.0</td>\n",
       "      <td>0.0</td>\n",
       "      <td>1</td>\n",
       "      <td>0.257354</td>\n",
       "      <td>NaN</td>\n",
       "    </tr>\n",
       "    <tr>\n",
       "      <td>1</td>\n",
       "      <td>0.905263</td>\n",
       "      <td>0.155556</td>\n",
       "      <td>0.941935</td>\n",
       "      <td>0.095238</td>\n",
       "      <td>0.129032</td>\n",
       "      <td>0.634615</td>\n",
       "      <td>0.204082</td>\n",
       "      <td>0.857143</td>\n",
       "      <td>0.075472</td>\n",
       "      <td>0.000000</td>\n",
       "      <td>0.780488</td>\n",
       "      <td>0.588235</td>\n",
       "      <td>0.706250</td>\n",
       "      <td>0.447255</td>\n",
       "      <td>0.701907</td>\n",
       "      <td>0.0</td>\n",
       "      <td>0.0</td>\n",
       "      <td>2</td>\n",
       "      <td>0.447255</td>\n",
       "      <td>NaN</td>\n",
       "    </tr>\n",
       "    <tr>\n",
       "      <td>2</td>\n",
       "      <td>0.931217</td>\n",
       "      <td>0.255319</td>\n",
       "      <td>0.965986</td>\n",
       "      <td>0.307692</td>\n",
       "      <td>0.000000</td>\n",
       "      <td>0.633803</td>\n",
       "      <td>0.505495</td>\n",
       "      <td>0.968153</td>\n",
       "      <td>0.571429</td>\n",
       "      <td>0.228571</td>\n",
       "      <td>0.889693</td>\n",
       "      <td>0.895238</td>\n",
       "      <td>0.821875</td>\n",
       "      <td>0.550200</td>\n",
       "      <td>0.812496</td>\n",
       "      <td>0.0</td>\n",
       "      <td>0.0</td>\n",
       "      <td>3</td>\n",
       "      <td>0.550200</td>\n",
       "      <td>0.0</td>\n",
       "    </tr>\n",
       "    <tr>\n",
       "      <td>3</td>\n",
       "      <td>0.941176</td>\n",
       "      <td>0.549020</td>\n",
       "      <td>0.973333</td>\n",
       "      <td>0.476190</td>\n",
       "      <td>0.312500</td>\n",
       "      <td>0.796460</td>\n",
       "      <td>0.608696</td>\n",
       "      <td>0.957576</td>\n",
       "      <td>0.770833</td>\n",
       "      <td>0.416667</td>\n",
       "      <td>0.931034</td>\n",
       "      <td>0.921348</td>\n",
       "      <td>0.879167</td>\n",
       "      <td>0.665756</td>\n",
       "      <td>0.872874</td>\n",
       "      <td>0.0</td>\n",
       "      <td>0.0</td>\n",
       "      <td>4</td>\n",
       "      <td>0.665756</td>\n",
       "      <td>0.0</td>\n",
       "    </tr>\n",
       "    <tr>\n",
       "      <td>4</td>\n",
       "      <td>0.948787</td>\n",
       "      <td>0.431373</td>\n",
       "      <td>0.976589</td>\n",
       "      <td>0.421053</td>\n",
       "      <td>0.341463</td>\n",
       "      <td>0.773109</td>\n",
       "      <td>0.695652</td>\n",
       "      <td>1.000000</td>\n",
       "      <td>0.807692</td>\n",
       "      <td>0.342857</td>\n",
       "      <td>0.916968</td>\n",
       "      <td>0.989474</td>\n",
       "      <td>0.877083</td>\n",
       "      <td>0.665001</td>\n",
       "      <td>0.877395</td>\n",
       "      <td>0.0</td>\n",
       "      <td>0.0</td>\n",
       "      <td>5</td>\n",
       "      <td>0.665001</td>\n",
       "      <td>0.0</td>\n",
       "    </tr>\n",
       "  </tbody>\n",
       "</table>\n",
       "</div>"
      ],
      "text/plain": [
       "     author  booktitle      date    editor  institution   journal  location  \\\n",
       "0  0.627523   0.126582  0.872964  0.000000     0.000000  0.000000  0.000000   \n",
       "1  0.905263   0.155556  0.941935  0.095238     0.129032  0.634615  0.204082   \n",
       "2  0.931217   0.255319  0.965986  0.307692     0.000000  0.633803  0.505495   \n",
       "3  0.941176   0.549020  0.973333  0.476190     0.312500  0.796460  0.608696   \n",
       "4  0.948787   0.431373  0.976589  0.421053     0.341463  0.773109  0.695652   \n",
       "\n",
       "      pages  publisher      tech     title    volume  accuracy  macro_avg  \\\n",
       "0  0.701923   0.000000  0.000000  0.759259  0.000000  0.612500   0.257354   \n",
       "1  0.857143   0.075472  0.000000  0.780488  0.588235  0.706250   0.447255   \n",
       "2  0.968153   0.571429  0.228571  0.889693  0.895238  0.821875   0.550200   \n",
       "3  0.957576   0.770833  0.416667  0.931034  0.921348  0.879167   0.665756   \n",
       "4  1.000000   0.807692  0.342857  0.916968  0.989474  0.877083   0.665001   \n",
       "\n",
       "   weighted_avg  ser  jer  epoch     score  note  \n",
       "0      0.539651  0.0  0.0      1  0.257354   NaN  \n",
       "1      0.701907  0.0  0.0      2  0.447255   NaN  \n",
       "2      0.812496  0.0  0.0      3  0.550200   0.0  \n",
       "3      0.872874  0.0  0.0      4  0.665756   0.0  \n",
       "4      0.877395  0.0  0.0      5  0.665001   0.0  "
      ]
     },
     "execution_count": 15,
     "metadata": {},
     "output_type": "execute_result"
    }
   ],
   "source": [
    "df = pd.read_csv(path, index_col=0)\n",
    "df.head()\n",
    "df = df[20:30]\n",
    "df.boxplot(column=[\"macro_avg\"], by=[\"epoch\"])"
   ]
  },
  {
   "cell_type": "code",
   "execution_count": 18,
   "metadata": {},
   "outputs": [
    {
     "data": {
      "text/plain": [
       "<matplotlib.axes._subplots.AxesSubplot at 0x1313ebbd0>"
      ]
     },
     "execution_count": 18,
     "metadata": {},
     "output_type": "execute_result"
    },
    {
     "data": {
      "image/png": "[encoded data removed]",
      "text/plain": [
       "<Figure size 432x288 with 1 Axes>"
      ]
     },
     "metadata": {
      "needs_background": "light"
     },
     "output_type": "display_data"
    }
   ],
   "source": [
    "df = df[20:30]\n",
    "df.boxplot(column=[\"macro_avg\"], by=[\"epoch\"])"
   ]
  },
  {
   "cell_type": "code",
   "execution_count": 19,
   "metadata": {},
   "outputs": [],
   "source": [
    "p = \"output/12:31:04/output/12:31:04/input_dim:96~hidden_dim:123~output_dim:14~lr:0.01~clip:5.0~beta1:0.9~beta2:0.999~l1:0.0~l2:0.0~drop_rate:0.05~batch:64~epoch:30~crf:False~rnn:True~num_of_rnn:1~s1:19~s2:5~s3:3.model.training.history.csv\""
   ]
  },
  {
   "cell_type": "code",
   "execution_count": 20,
   "metadata": {},
   "outputs": [
    {
     "data": {
      "text/plain": [
       "<matplotlib.axes._subplots.AxesSubplot at 0x130ec0250>"
      ]
     },
     "execution_count": 20,
     "metadata": {},
     "output_type": "execute_result"
    },
    {
     "data": {
      "image/png": "[encoded data removed]",
      "text/plain": [
       "<Figure size 432x288 with 1 Axes>"
      ]
     },
     "metadata": {
      "needs_background": "light"
     },
     "output_type": "display_data"
    }
   ],
   "source": [
    "df = pd.read_csv(p, index_col=0)\n",
    "df.head()\n",
    "df = df[20:30]\n",
    "df.boxplot(column=[\"macro_avg\"], by=[\"epoch\"])"
   ]
  },
  {
   "cell_type": "code",
   "execution_count": null,
   "metadata": {},
   "outputs": [],
   "source": []
  },
  {
   "cell_type": "code",
   "execution_count": null,
   "metadata": {},
   "outputs": [],
   "source": []
  },
  {
   "cell_type": "code",
   "execution_count": null,
   "metadata": {},
   "outputs": [],
   "source": []
  },
  {
   "cell_type": "code",
   "execution_count": null,
   "metadata": {},
   "outputs": [],
   "source": []
  },
  {
   "cell_type": "code",
   "execution_count": 55,
   "metadata": {},
   "outputs": [],
   "source": [
    "import numpy as np"
   ]
  },
  {
   "cell_type": "code",
   "execution_count": 70,
   "metadata": {},
   "outputs": [],
   "source": [
    "arr=[\n",
    "    [\n",
    "        [1, 3, 4, 8],\n",
    "        [2, 3, 5, 8]\n",
    "    ],\n",
    "\n",
    "    [\n",
    "        [1.1, 32, 4, 8],\n",
    "        [22, 31, 5, 8]\n",
    "    ]\n",
    "]\n",
    "arr = np.array(arr)"
   ]
  },
  {
   "cell_type": "code",
   "execution_count": 65,
   "metadata": {},
   "outputs": [
    {
     "name": "stdout",
     "output_type": "stream",
     "text": [
      "(2, 2, 4)\n"
     ]
    }
   ],
   "source": [
    "print(arr.shape)"
   ]
  },
  {
   "cell_type": "code",
   "execution_count": 69,
   "metadata": {},
   "outputs": [
    {
     "data": {
      "text/plain": [
       "array([[[ 1. ,  3. ,  4. ,  8. ],\n",
       "        [ 2. ,  3. ,  5. ,  8. ]],\n",
       "\n",
       "       [[ 1.1, 32. ,  4. ,  8. ],\n",
       "        [22. , 31. ,  5. ,  8. ]]])"
      ]
     },
     "execution_count": 69,
     "metadata": {},
     "output_type": "execute_result"
    }
   ],
   "source": [
    "arr[:, :, 0:4]"
   ]
  },
  {
   "cell_type": "code",
   "execution_count": null,
   "metadata": {},
   "outputs": [],
   "source": []
  }
 ],
 "metadata": {
  "kernelspec": {
   "display_name": "Python 3",
   "language": "python",
   "name": "python3"
  },
  "language_info": {
   "codemirror_mode": {
    "name": "ipython",
    "version": 3
   },
   "file_extension": ".py",
   "mimetype": "text/x-python",
   "name": "python",
   "nbconvert_exporter": "python",
   "pygments_lexer": "ipython3",
   "version": "3.7.4"
  }
 },
 "nbformat": 4,
 "nbformat_minor": 4
}
